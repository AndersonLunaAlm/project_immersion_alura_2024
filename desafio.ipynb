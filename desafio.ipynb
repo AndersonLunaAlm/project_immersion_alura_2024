{
  "nbformat": 4,
  "nbformat_minor": 0,
  "metadata": {
    "colab": {
      "provenance": [],
      "authorship_tag": "ABX9TyMM++5I/QuYpZxnZinvlKP8",
      "include_colab_link": true
    },
    "kernelspec": {
      "name": "python3",
      "display_name": "Python 3"
    },
    "language_info": {
      "name": "python"
    }
  },
  "cells": [
    {
      "cell_type": "markdown",
      "metadata": {
        "id": "view-in-github",
        "colab_type": "text"
      },
      "source": [
        "<a href=\"https://colab.research.google.com/github/AndersonLunaAlm/project_immersion_alura_2024/blob/main/desafio.ipynb\" target=\"_parent\"><img src=\"https://colab.research.google.com/assets/colab-badge.svg\" alt=\"Open In Colab\"/></a>"
      ]
    },
    {
      "cell_type": "code",
      "execution_count": 1,
      "metadata": {
        "id": "FMjwwLk7rAZ4"
      },
      "outputs": [],
      "source": [
        "!pip install -q -U google-generativeai"
      ]
    },
    {
      "cell_type": "code",
      "source": [],
      "metadata": {
        "id": "yAtNE27orj1_"
      },
      "execution_count": null,
      "outputs": []
    },
    {
      "cell_type": "code",
      "execution_count": 3,
      "metadata": {
        "id": "HTiaTu6O1LRC"
      },
      "outputs": [],
      "source": [
        "# Import the Python SDK\n",
        "import google.generativeai as genai\n",
        "import json\n",
        "# Used to securely store your API key\n",
        "from google.colab import userdata\n",
        "GOOGLE_API_KEY=userdata.get('SECRET_API_KEY')\n",
        "genai.configure(api_key=GOOGLE_API_KEY)"
      ]
    },
    {
      "cell_type": "code",
      "source": [
        "generation_config={\n",
        "    \"candidate_count\":1,\n",
        "    \"temperature\":0.5\n",
        "}"
      ],
      "metadata": {
        "id": "M6_tcR6K0VUk"
      },
      "execution_count": 8,
      "outputs": []
    },
    {
      "cell_type": "code",
      "source": [
        "safety_settings={\n",
        "    \"HARASSMENT\":\"BLOCK_NONE\",\n",
        "    \"HATE\":\"BLOCK_NONE\",\n",
        "    \"SEXUAL\":\"BLOCK_NONE\",\n",
        "    \"DANGEROUS\":\"BLOCK_NONE\"\n",
        "}"
      ],
      "metadata": {
        "id": "0ltrKJXW0_Sf"
      },
      "execution_count": 11,
      "outputs": []
    },
    {
      "cell_type": "code",
      "source": [
        "model = genai.GenerativeModel(model_name='gemini-1.0-pro', generation_config=generation_config, safety_settings=safety_settings)"
      ],
      "metadata": {
        "id": "mbqrZD1D2RLj"
      },
      "execution_count": 12,
      "outputs": []
    },
    {
      "cell_type": "code",
      "source": [
        "response = model.generate_content(\"Vamos aprender conteúdo sobre IA. Me dê sugestões.\")\n",
        "print(response.text)"
      ],
      "metadata": {
        "colab": {
          "base_uri": "https://localhost:8080/",
          "height": 767
        },
        "id": "EE2fAsxs2-1S",
        "outputId": "7fc62b4d-8837-4697-effa-62b6fcc17914"
      },
      "execution_count": 14,
      "outputs": [
        {
          "output_type": "stream",
          "name": "stdout",
          "text": [
            "**Conceitos Fundamentais**\n",
            "\n",
            "* O que é Inteligência Artificial (IA)?\n",
            "* Tipos de IA (Aprendizado de Máquina, Aprendizado Profundo, Processamento de Linguagem Natural)\n",
            "* Algoritmos de IA comuns (Regressão, Classificação, Clusterização)\n",
            "* Ética e Implicações Sociais da IA\n",
            "\n",
            "**Aprendizado de Máquina**\n",
            "\n",
            "* Tipos de Aprendizado de Máquina (Supervisionado, Não Supervisionado, Reforço)\n",
            "* Modelos de Aprendizado de Máquina (Árvores de Decisão, Redes Neurais, Máquinas de Vetores de Suporte)\n",
            "* Avaliação e Seleção de Modelos\n",
            "* Sobreajuste e Subajuste\n",
            "\n",
            "**Aprendizado Profundo**\n",
            "\n",
            "* Redes Neurais Profundas (CNNs, RNNs, LSTMs)\n",
            "* Arquiteturas de Rede Neural\n",
            "* Treinamento e Otimização de Redes Neurais\n",
            "* Aplicações de Aprendizado Profundo (Visão Computacional, Processamento de Linguagem Natural)\n",
            "\n",
            "**Processamento de Linguagem Natural (PNL)**\n",
            "\n",
            "* Conceitos Básicos de PNL (Tokenização, Stemming, Lematização)\n",
            "* Modelagem de Linguagem (NGramas, Modelos de Markov)\n",
            "* Análise de Sentimento\n",
            "* Geração de Linguagem Natural\n",
            "\n",
            "**Aplicações da IA**\n",
            "\n",
            "* Visão Computacional (Reconhecimento de Imagem, Detecção de Objetos)\n",
            "* Processamento de Linguagem Natural (Chatbots, Tradução Automática)\n",
            "* Previsão e Otimização (Previsão de Demanda, Otimização de Processos)\n",
            "* Cuidados de Saúde (Diagnóstico Médico, Desenvolvimento de Medicamentos)\n",
            "* Finanças (Detecção de Fraudes, Análise de Mercado)\n",
            "\n",
            "**Recursos**\n",
            "\n",
            "* Cursos Online (Coursera, edX, Udemy)\n",
            "* Livros (Inteligência Artificial: Uma Abordagem Moderna, Aprendizado Profundo)\n",
            "* Comunidades Online (Stack Overflow, Kaggle)\n",
            "* Conferências e Eventos (AAAI, NeurIPS)\n"
          ]
        }
      ]
    },
    {
      "cell_type": "code",
      "source": [
        "chat = model.start_chat(history=[])"
      ],
      "metadata": {
        "id": "bptbhpDi3aqo"
      },
      "execution_count": 15,
      "outputs": []
    },
    {
      "cell_type": "code",
      "source": [],
      "metadata": {
        "id": "mRLlbeN73YXz"
      },
      "execution_count": null,
      "outputs": []
    }
  ]
}